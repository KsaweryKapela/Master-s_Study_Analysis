{
 "cells": [
  {
   "cell_type": "code",
   "execution_count": 10,
   "metadata": {},
   "outputs": [],
   "source": [
    "import pandas as pd\n",
    "\n",
    "file_name = 'data.xlsx'\n",
    "df = pd.read_excel(io=file_name)"
   ]
  },
  {
   "cell_type": "code",
   "execution_count": 11,
   "metadata": {},
   "outputs": [],
   "source": [
    "df = df[:235]\n",
    "df = df.drop(labels=['My scale:', 'Dodatkowe pytanie:', 'Funkcjonowanie społeczne', 'Szczegóły o pornografii',\n",
    "                     'Metryczka', 'PPCS:', 'Extreme score'], axis=1)\n",
    "\n",
    "df.columns = 'time', 'extreme_1', 'extreme_2', 'extreme_3', 'extreme_4', 'extreme_5', 'extreme_6', 'extreme_7', \\\n",
    "             'extreme_8', 'extreme_score', 'PPCS_1', 'PPCS_2', 'PPCS_3', 'PPCS_4', 'PPCS_5', \\\n",
    "             'PPCS_6', 'PPCS_score', 'PPCS_7', 'well-being', 'father_relations', 'mother_relations', \\\n",
    "             'friends_relations', 'romantic_life', 'sexual_life', 'reenacting', 'weekly_session', 'session_time', \\\n",
    "             'weekly_minutes', 'gender', 'age', 'faith_status', 'education', 'relationship_status', 'lives_with', 'occupation'"
   ]
  },
  {
   "cell_type": "code",
   "execution_count": 12,
   "metadata": {},
   "outputs": [],
   "source": [
    "in_relationship = []\n",
    "believes_in_god = []\n",
    "\n",
    "for item in df['relationship_status']:\n",
    "    if item in ['Zaręczony/zaręczona', 'W związku małżeńskim', 'W związku', 'Kochanka']:\n",
    "        in_relationship.append(True)\n",
    "    else:\n",
    "        in_relationship.append(False)\n",
    "\n",
    "for item in df['faith_status']:\n",
    "    if item == 'Nie':\n",
    "        believes_in_god.append(False)\n",
    "    else:\n",
    "        believes_in_god.append(True)\n",
    "\n",
    "df['in_relationship'] = in_relationship\n",
    "df['believes_in_god'] = believes_in_god"
   ]
  },
  {
   "cell_type": "code",
   "execution_count": 13,
   "metadata": {},
   "outputs": [],
   "source": [
    "is_male = []\n",
    "is_female = []\n",
    "\n",
    "for item in df['gender']:\n",
    "    if item == 'Kobieta':\n",
    "        is_male.append(False)\n",
    "        is_female.append(True)\n",
    "    elif item == 'Mężczyzna':\n",
    "        is_male.append(True)\n",
    "        is_female.append(False)\n",
    "    else:\n",
    "        print(f'{item} doesn\\'t match the criteria')\n"
   ]
  },
  {
   "cell_type": "code",
   "execution_count": 14,
   "metadata": {},
   "outputs": [
    {
     "name": "stdout",
     "output_type": "stream",
     "text": [
      "True     121\n",
      "False    114\n",
      "Name: believes_in_god, dtype: int64\n"
     ]
    }
   ],
   "source": [
    "print(df['believes_in_god'].value_counts())"
   ]
  },
  {
   "cell_type": "code",
   "execution_count": 15,
   "metadata": {},
   "outputs": [],
   "source": [
    "datatoexcel = pd.ExcelWriter('processing_ready_data.xlsx')\n",
    "df.to_excel(datatoexcel)\n",
    "datatoexcel.save()"
   ]
  }
 ],
 "metadata": {
  "kernelspec": {
   "display_name": "Python 3",
   "language": "python",
   "name": "python3"
  },
  "language_info": {
   "codemirror_mode": {
    "name": "ipython",
    "version": 3
   },
   "file_extension": ".py",
   "mimetype": "text/x-python",
   "name": "python",
   "nbconvert_exporter": "python",
   "pygments_lexer": "ipython3",
   "version": "3.10.3"
  },
  "orig_nbformat": 4,
  "vscode": {
   "interpreter": {
    "hash": "8c3d4d9970fc5c09c50d9318a9c7fbf4d0159e4b28833276f5678ee22bded273"
   }
  }
 },
 "nbformat": 4,
 "nbformat_minor": 2
}
