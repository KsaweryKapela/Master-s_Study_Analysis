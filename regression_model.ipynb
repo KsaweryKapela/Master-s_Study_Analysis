{
 "cells": [
  {
   "cell_type": "code",
   "execution_count": 1,
   "metadata": {},
   "outputs": [],
   "source": [
    "import pandas as pd\n",
    "import scipy.stats as stats\n",
    "import numpy as np\n",
    "\n",
    "file_name = 'processing_ready_data.xlsx'\n",
    "df = pd.read_excel(io=file_name)\n",
    "\n",
    "df_out = df[df.weekly_minutes < 500]"
   ]
  },
  {
   "cell_type": "code",
   "execution_count": 76,
   "metadata": {},
   "outputs": [
    {
     "name": "stdout",
     "output_type": "stream",
     "text": [
      "R2: 0.64\n",
      "Weekly minutes P: 4.190382038524783e-34\n",
      "Extreme score P: 0.23450915491\n"
     ]
    },
    {
     "data": {
      "text/html": [
       "<table class=\"simpletable\">\n",
       "<caption>OLS Regression Results</caption>\n",
       "<tr>\n",
       "  <th>Dep. Variable:</th>       <td>sexual_life</td>   <th>  R-squared (uncentered):</th>      <td>   0.637</td>\n",
       "</tr>\n",
       "<tr>\n",
       "  <th>Model:</th>                   <td>OLS</td>       <th>  Adj. R-squared (uncentered):</th> <td>   0.633</td>\n",
       "</tr>\n",
       "<tr>\n",
       "  <th>Method:</th>             <td>Least Squares</td>  <th>  F-statistic:       </th>          <td>   199.6</td>\n",
       "</tr>\n",
       "<tr>\n",
       "  <th>Date:</th>             <td>Fri, 30 Dec 2022</td> <th>  Prob (F-statistic):</th>          <td>7.89e-51</td>\n",
       "</tr>\n",
       "<tr>\n",
       "  <th>Time:</th>                 <td>23:51:42</td>     <th>  Log-Likelihood:    </th>          <td> -633.45</td>\n",
       "</tr>\n",
       "<tr>\n",
       "  <th>No. Observations:</th>      <td>   230</td>      <th>  AIC:               </th>          <td>   1271.</td>\n",
       "</tr>\n",
       "<tr>\n",
       "  <th>Df Residuals:</th>          <td>   228</td>      <th>  BIC:               </th>          <td>   1278.</td>\n",
       "</tr>\n",
       "<tr>\n",
       "  <th>Df Model:</th>              <td>     2</td>      <th>                     </th>              <td> </td>   \n",
       "</tr>\n",
       "<tr>\n",
       "  <th>Covariance Type:</th>      <td>nonrobust</td>    <th>                     </th>              <td> </td>   \n",
       "</tr>\n",
       "</table>\n",
       "<table class=\"simpletable\">\n",
       "<tr>\n",
       "   <td></td>     <th>coef</th>     <th>std err</th>      <th>t</th>      <th>P>|t|</th>  <th>[0.025</th>    <th>0.975]</th>  \n",
       "</tr>\n",
       "<tr>\n",
       "  <th>x1</th> <td>    1.6888</td> <td>    0.117</td> <td>   14.471</td> <td> 0.000</td> <td>    1.459</td> <td>    1.919</td>\n",
       "</tr>\n",
       "<tr>\n",
       "  <th>x2</th> <td>   -0.0049</td> <td>    0.004</td> <td>   -1.192</td> <td> 0.235</td> <td>   -0.013</td> <td>    0.003</td>\n",
       "</tr>\n",
       "</table>\n",
       "<table class=\"simpletable\">\n",
       "<tr>\n",
       "  <th>Omnibus:</th>       <td> 7.082</td> <th>  Durbin-Watson:     </th> <td>   1.944</td>\n",
       "</tr>\n",
       "<tr>\n",
       "  <th>Prob(Omnibus):</th> <td> 0.029</td> <th>  Jarque-Bera (JB):  </th> <td>   3.846</td>\n",
       "</tr>\n",
       "<tr>\n",
       "  <th>Skew:</th>          <td>-0.060</td> <th>  Prob(JB):          </th> <td>   0.146</td>\n",
       "</tr>\n",
       "<tr>\n",
       "  <th>Kurtosis:</th>      <td> 2.378</td> <th>  Cond. No.          </th> <td>    42.1</td>\n",
       "</tr>\n",
       "</table><br/><br/>Notes:<br/>[1] R² is computed without centering (uncentered) since the model does not contain a constant.<br/>[2] Standard Errors assume that the covariance matrix of the errors is correctly specified."
      ],
      "text/plain": [
       "<class 'statsmodels.iolib.summary.Summary'>\n",
       "\"\"\"\n",
       "                                 OLS Regression Results                                \n",
       "=======================================================================================\n",
       "Dep. Variable:            sexual_life   R-squared (uncentered):                   0.637\n",
       "Model:                            OLS   Adj. R-squared (uncentered):              0.633\n",
       "Method:                 Least Squares   F-statistic:                              199.6\n",
       "Date:                Fri, 30 Dec 2022   Prob (F-statistic):                    7.89e-51\n",
       "Time:                        23:51:42   Log-Likelihood:                         -633.45\n",
       "No. Observations:                 230   AIC:                                      1271.\n",
       "Df Residuals:                     228   BIC:                                      1278.\n",
       "Df Model:                           2                                                  \n",
       "Covariance Type:            nonrobust                                                  \n",
       "==============================================================================\n",
       "                 coef    std err          t      P>|t|      [0.025      0.975]\n",
       "------------------------------------------------------------------------------\n",
       "x1             1.6888      0.117     14.471      0.000       1.459       1.919\n",
       "x2            -0.0049      0.004     -1.192      0.235      -0.013       0.003\n",
       "==============================================================================\n",
       "Omnibus:                        7.082   Durbin-Watson:                   1.944\n",
       "Prob(Omnibus):                  0.029   Jarque-Bera (JB):                3.846\n",
       "Skew:                          -0.060   Prob(JB):                        0.146\n",
       "Kurtosis:                       2.378   Cond. No.                         42.1\n",
       "==============================================================================\n",
       "\n",
       "Notes:\n",
       "[1] R² is computed without centering (uncentered) since the model does not contain a constant.\n",
       "[2] Standard Errors assume that the covariance matrix of the errors is correctly specified.\n",
       "\"\"\""
      ]
     },
     "execution_count": 76,
     "metadata": {},
     "output_type": "execute_result"
    }
   ],
   "source": [
    "# MULTIPLE LINEAR REGRESSION - WEEKLY MINUTES AND EXTREME SCORE TO PREDICT SEXUAL LIFE\n",
    "import statsmodels.api as sm\n",
    "\n",
    "x = np.vstack((df_out['extreme_score'], df_out['weekly_minutes'])).T\n",
    "y = df_out['sexual_life']\n",
    "\n",
    "multi_regression = sm.OLS(endog=y, exog=x).fit()\n",
    "\n",
    "print('R2:', round(multi_regression.rsquared, 2))\n",
    "print('Weekly minutes P:', multi_regression.pvalues['x1'])\n",
    "print('Extreme score P:', multi_regression.pvalues['x2'])\n",
    "multi_regression.summary()\n"
   ]
  },
  {
   "cell_type": "code",
   "execution_count": 73,
   "metadata": {},
   "outputs": [
    {
     "name": "stdout",
     "output_type": "stream",
     "text": [
      "R2: 0.85\n",
      "Weekly minutes P: 4.166781793495255e-49\n",
      "Extreme score P: 9.274623743987054e-12\n"
     ]
    },
    {
     "data": {
      "text/html": [
       "<table class=\"simpletable\">\n",
       "<caption>OLS Regression Results</caption>\n",
       "<tr>\n",
       "  <th>Dep. Variable:</th>       <td>PPCS_score</td>    <th>  R-squared (uncentered):</th>      <td>   0.853</td>\n",
       "</tr>\n",
       "<tr>\n",
       "  <th>Model:</th>                   <td>OLS</td>       <th>  Adj. R-squared (uncentered):</th> <td>   0.852</td>\n",
       "</tr>\n",
       "<tr>\n",
       "  <th>Method:</th>             <td>Least Squares</td>  <th>  F-statistic:       </th>          <td>   662.3</td>\n",
       "</tr>\n",
       "<tr>\n",
       "  <th>Date:</th>             <td>Fri, 30 Dec 2022</td> <th>  Prob (F-statistic):</th>          <td>1.05e-95</td>\n",
       "</tr>\n",
       "<tr>\n",
       "  <th>Time:</th>                 <td>23:49:55</td>     <th>  Log-Likelihood:    </th>          <td> -764.34</td>\n",
       "</tr>\n",
       "<tr>\n",
       "  <th>No. Observations:</th>      <td>   230</td>      <th>  AIC:               </th>          <td>   1533.</td>\n",
       "</tr>\n",
       "<tr>\n",
       "  <th>Df Residuals:</th>          <td>   228</td>      <th>  BIC:               </th>          <td>   1540.</td>\n",
       "</tr>\n",
       "<tr>\n",
       "  <th>Df Model:</th>              <td>     2</td>      <th>                     </th>              <td> </td>   \n",
       "</tr>\n",
       "<tr>\n",
       "  <th>Covariance Type:</th>      <td>nonrobust</td>    <th>                     </th>              <td> </td>   \n",
       "</tr>\n",
       "</table>\n",
       "<table class=\"simpletable\">\n",
       "<tr>\n",
       "   <td></td>     <th>coef</th>     <th>std err</th>      <th>t</th>      <th>P>|t|</th>  <th>[0.025</th>    <th>0.975]</th>  \n",
       "</tr>\n",
       "<tr>\n",
       "  <th>x1</th> <td>    3.9315</td> <td>    0.206</td> <td>   19.068</td> <td> 0.000</td> <td>    3.525</td> <td>    4.338</td>\n",
       "</tr>\n",
       "<tr>\n",
       "  <th>x2</th> <td>    0.0517</td> <td>    0.007</td> <td>    7.189</td> <td> 0.000</td> <td>    0.038</td> <td>    0.066</td>\n",
       "</tr>\n",
       "</table>\n",
       "<table class=\"simpletable\">\n",
       "<tr>\n",
       "  <th>Omnibus:</th>       <td>16.491</td> <th>  Durbin-Watson:     </th> <td>   1.932</td>\n",
       "</tr>\n",
       "<tr>\n",
       "  <th>Prob(Omnibus):</th> <td> 0.000</td> <th>  Jarque-Bera (JB):  </th> <td>  19.978</td>\n",
       "</tr>\n",
       "<tr>\n",
       "  <th>Skew:</th>          <td> 0.547</td> <th>  Prob(JB):          </th> <td>4.59e-05</td>\n",
       "</tr>\n",
       "<tr>\n",
       "  <th>Kurtosis:</th>      <td> 3.943</td> <th>  Cond. No.          </th> <td>    42.1</td>\n",
       "</tr>\n",
       "</table><br/><br/>Notes:<br/>[1] R² is computed without centering (uncentered) since the model does not contain a constant.<br/>[2] Standard Errors assume that the covariance matrix of the errors is correctly specified."
      ],
      "text/plain": [
       "<class 'statsmodels.iolib.summary.Summary'>\n",
       "\"\"\"\n",
       "                                 OLS Regression Results                                \n",
       "=======================================================================================\n",
       "Dep. Variable:             PPCS_score   R-squared (uncentered):                   0.853\n",
       "Model:                            OLS   Adj. R-squared (uncentered):              0.852\n",
       "Method:                 Least Squares   F-statistic:                              662.3\n",
       "Date:                Fri, 30 Dec 2022   Prob (F-statistic):                    1.05e-95\n",
       "Time:                        23:49:55   Log-Likelihood:                         -764.34\n",
       "No. Observations:                 230   AIC:                                      1533.\n",
       "Df Residuals:                     228   BIC:                                      1540.\n",
       "Df Model:                           2                                                  \n",
       "Covariance Type:            nonrobust                                                  \n",
       "==============================================================================\n",
       "                 coef    std err          t      P>|t|      [0.025      0.975]\n",
       "------------------------------------------------------------------------------\n",
       "x1             3.9315      0.206     19.068      0.000       3.525       4.338\n",
       "x2             0.0517      0.007      7.189      0.000       0.038       0.066\n",
       "==============================================================================\n",
       "Omnibus:                       16.491   Durbin-Watson:                   1.932\n",
       "Prob(Omnibus):                  0.000   Jarque-Bera (JB):               19.978\n",
       "Skew:                           0.547   Prob(JB):                     4.59e-05\n",
       "Kurtosis:                       3.943   Cond. No.                         42.1\n",
       "==============================================================================\n",
       "\n",
       "Notes:\n",
       "[1] R² is computed without centering (uncentered) since the model does not contain a constant.\n",
       "[2] Standard Errors assume that the covariance matrix of the errors is correctly specified.\n",
       "\"\"\""
      ]
     },
     "execution_count": 73,
     "metadata": {},
     "output_type": "execute_result"
    }
   ],
   "source": [
    "# MULTIPLE LINEAR REGRESSION - WEEKLY MINUTES AND EXTREME SCORE TO PREDICT PPCS\n",
    "import statsmodels.api as sm\n",
    "\n",
    "x = np.vstack((df_out['extreme_score'], df_out['weekly_minutes'])).T\n",
    "y = df_out['PPCS_score']\n",
    "\n",
    "multi_regression = sm.OLS(endog=y, exog=x).fit()\n",
    "\n",
    "print('R2:', round(multi_regression.rsquared, 2))\n",
    "print('Weekly minutes P:', multi_regression.pvalues['x1'])\n",
    "print('Extreme score P:', multi_regression.pvalues['x2'])\n",
    "multi_regression.summary()"
   ]
  },
  {
   "cell_type": "code",
   "execution_count": 70,
   "metadata": {},
   "outputs": [
    {
     "name": "stdout",
     "output_type": "stream",
     "text": [
      "Intercept: 3.08, slope: 20.06, r: 0.35 p: 3.5e-08\n"
     ]
    },
    {
     "data": {
      "image/png": "[encoded data removed]",
      "text/plain": [
       "<Figure size 432x288 with 1 Axes>"
      ]
     },
     "metadata": {
      "needs_background": "light"
     },
     "output_type": "display_data"
    }
   ],
   "source": [
    "# LINEAR REGRESSION - EXTREME SCORE TO PREDICT WEEKLY MINUTES\n",
    "\n",
    "slope, intercept, r, p, std_err = stats.linregress(df_out['extreme_score'], df_out['weekly_minutes'])\n",
    "print(f'Intercept: {round(intercept, 2)}, slope: {round(slope, 2)}, r: {round(r, 2)} p: {round(p, 10)}')\n",
    "\n",
    "design_matrix = np.asarray([[1, value] for value in df_out['extreme_score']])\n",
    "beta = np.asarray([intercept, slope])\n",
    "\n",
    "predicted_values = design_matrix @ beta\n",
    "\n",
    "plt.plot(df_out['extreme_score'], df_out['weekly_minutes'], 'ko', markerfacecolor='b')\n",
    "plt.plot(df_out['extreme_score'], predicted_values, '-', color='r')\n",
    "plt.legend(('Data (y)','Model ($\\^{y}$)'))\n",
    "\n",
    "plt.xlabel('Extreme score')\n",
    "plt.ylabel('Minutes watched weekly')\n",
    "plt.show()"
   ]
  }
 ],
 "metadata": {
  "kernelspec": {
   "display_name": "Python 3",
   "language": "python",
   "name": "python3"
  },
  "language_info": {
   "codemirror_mode": {
    "name": "ipython",
    "version": 3
   },
   "file_extension": ".py",
   "mimetype": "text/x-python",
   "name": "python",
   "nbconvert_exporter": "python",
   "pygments_lexer": "ipython3",
   "version": "3.10.3"
  },
  "orig_nbformat": 4,
  "vscode": {
   "interpreter": {
    "hash": "8c3d4d9970fc5c09c50d9318a9c7fbf4d0159e4b28833276f5678ee22bded273"
   }
  }
 },
 "nbformat": 4,
 "nbformat_minor": 2
}
